{
  "cells": [
    {
      "cell_type": "markdown",
      "metadata": {
        "id": "_HVdDIL7_TVB"
      },
      "source": [
        "#<center> U-net Implimentation"
      ]
    },
    {
      "cell_type": "markdown",
      "metadata": {
        "id": "wCpEimC9sSsM"
      },
      "source": [
        "## Importing required libraries"
      ]
    },
    {
      "cell_type": "code",
      "execution_count": null,
      "metadata": {
        "id": "l7WyMlTD__jm"
      },
      "outputs": [],
      "source": [
        "from tensorflow.keras.layers import Input, Conv2D, MaxPooling2D, Dropout, concatenate, UpSampling2D, Conv2DTranspose\n",
        "from keras.models import Model"
      ]
    },
    {
      "cell_type": "code",
      "execution_count": null,
      "metadata": {
        "id": "gLRSiA4MBV_A"
      },
      "outputs": [],
      "source": [
        "# function to build u-net model\n",
        "def build_model(image_shape, start_neurons=64, classes=1, activation='sigmoid',):\n",
        "    # Contraction Path\n",
        "    input_layer = Input((image_shape))\n",
        "\n",
        "    conv1 = Conv2D(start_neurons * 1, (3, 3), activation=\"relu\", padding=\"same\")(input_layer)\n",
        "    conv1 = Conv2D(start_neurons * 1, (3, 3), activation=\"relu\", padding=\"same\")(conv1)\n",
        "    pool1 = MaxPooling2D((2, 2))(conv1)\n",
        "    pool1 = Dropout(0.25)(pool1)\n",
        "\n",
        "    conv2 = Conv2D(start_neurons * 2, (3, 3), activation=\"relu\", padding=\"same\")(pool1)\n",
        "    conv2 = Conv2D(start_neurons * 2, (3, 3), activation=\"relu\", padding=\"same\")(conv2)\n",
        "    pool2 = MaxPooling2D((2, 2))(conv2)\n",
        "    pool2 = Dropout(0.5)(pool2)\n",
        "\n",
        "    conv3 = Conv2D(start_neurons * 4, (3, 3), activation=\"relu\", padding=\"same\")(pool2)\n",
        "    conv3 = Conv2D(start_neurons * 4, (3, 3), activation=\"relu\", padding=\"same\")(conv3)\n",
        "    pool3 = MaxPooling2D((2, 2))(conv3)\n",
        "    pool3 = Dropout(0.5)(pool3)\n",
        "\n",
        "    conv4 = Conv2D(start_neurons * 8, (3, 3), activation=\"relu\", padding=\"same\")(pool3)\n",
        "    conv4 = Conv2D(start_neurons * 8, (3, 3), activation=\"relu\", padding=\"same\")(conv4)\n",
        "    pool4 = MaxPooling2D((2, 2))(conv4)\n",
        "    pool4 = Dropout(0.5)(pool4)\n",
        "\n",
        "    # Middle\n",
        "    convm = Conv2D(start_neurons * 16, (3, 3), activation=\"relu\", padding=\"same\")(pool4)\n",
        "    convm = Conv2D(start_neurons * 16, (3, 3), activation=\"relu\", padding=\"same\")(convm)\n",
        "    \n",
        "    # Expansion Path\n",
        "    deconv4 = Conv2DTranspose(start_neurons * 8, (3, 3), strides=(2, 2), padding=\"same\")(convm)\n",
        "    uconv4 = concatenate([deconv4, conv4])\n",
        "    uconv4 = Dropout(0.5)(uconv4)\n",
        "    uconv4 = Conv2D(start_neurons * 8, (3, 3), activation=\"relu\", padding=\"same\")(uconv4)\n",
        "    uconv4 = Conv2D(start_neurons * 8, (3, 3), activation=\"relu\", padding=\"same\")(uconv4)\n",
        "\n",
        "    deconv3 = Conv2DTranspose(start_neurons * 4, (3, 3), strides=(2, 2), padding=\"same\")(uconv4)\n",
        "    uconv3 = concatenate([deconv3, conv3])\n",
        "    uconv3 = Dropout(0.5)(uconv3)\n",
        "    uconv3 = Conv2D(start_neurons * 4, (3, 3), activation=\"relu\", padding=\"same\")(uconv3)\n",
        "    uconv3 = Conv2D(start_neurons * 4, (3, 3), activation=\"relu\", padding=\"same\")(uconv3)\n",
        "\n",
        "    deconv2 = Conv2DTranspose(start_neurons * 2, (3, 3), strides=(2, 2), padding=\"same\")(uconv3)\n",
        "    uconv2 = concatenate([deconv2, conv2])\n",
        "    uconv2 = Dropout(0.5)(uconv2)\n",
        "    uconv2 = Conv2D(start_neurons * 2, (3, 3), activation=\"relu\", padding=\"same\")(uconv2)\n",
        "    uconv2 = Conv2D(start_neurons * 2, (3, 3), activation=\"relu\", padding=\"same\")(uconv2)\n",
        "\n",
        "    deconv1 = Conv2DTranspose(start_neurons * 1, (3, 3), strides=(2, 2), padding=\"same\")(uconv2)\n",
        "    uconv1 = concatenate([deconv1, conv1])\n",
        "    uconv1 = Dropout(0.5)(uconv1)\n",
        "    uconv1 = Conv2D(start_neurons * 1, (3, 3), activation=\"relu\", padding=\"same\")(uconv1)\n",
        "    uconv1 = Conv2D(start_neurons * 1, (3, 3), activation=\"relu\", padding=\"same\")(uconv1)\n",
        "    \n",
        "    output_layer = Conv2D(filters=classes, kernel_size=(3,3), padding=\"same\", use_bias=True, activation=activation)(uconv1)\n",
        "\n",
        "    model = Model(inputs=[input_layer], outputs=[output_layer],  name=\"U-Net\")\n",
        "    \n",
        "    return model\n",
        "\n",
        "\n",
        "model = build_model(image_shape = (256,256,3), start_neurons = 64)"
      ]
    },
    {
      "cell_type": "code",
      "execution_count": null,
      "metadata": {
        "colab": {
          "base_uri": "https://localhost:8080/"
        },
        "id": "EUrvl65gBovv",
        "outputId": "2da8e8c6-a886-4b2c-f59f-c842044c99f3"
      },
      "outputs": [
        {
          "name": "stdout",
          "output_type": "stream",
          "text": [
            "Model: \"U-Net\"\n",
            "__________________________________________________________________________________________________\n",
            "Layer (type)                    Output Shape         Param #     Connected to                     \n",
            "==================================================================================================\n",
            "input_9 (InputLayer)            [(None, 256, 256, 3) 0                                            \n",
            "__________________________________________________________________________________________________\n",
            "conv2d_143 (Conv2D)             (None, 256, 256, 64) 1792        input_9[0][0]                    \n",
            "__________________________________________________________________________________________________\n",
            "conv2d_144 (Conv2D)             (None, 256, 256, 64) 36928       conv2d_143[0][0]                 \n",
            "__________________________________________________________________________________________________\n",
            "max_pooling2d_32 (MaxPooling2D) (None, 128, 128, 64) 0           conv2d_144[0][0]                 \n",
            "__________________________________________________________________________________________________\n",
            "dropout_60 (Dropout)            (None, 128, 128, 64) 0           max_pooling2d_32[0][0]           \n",
            "__________________________________________________________________________________________________\n",
            "conv2d_145 (Conv2D)             (None, 128, 128, 128 73856       dropout_60[0][0]                 \n",
            "__________________________________________________________________________________________________\n",
            "conv2d_146 (Conv2D)             (None, 128, 128, 128 147584      conv2d_145[0][0]                 \n",
            "__________________________________________________________________________________________________\n",
            "max_pooling2d_33 (MaxPooling2D) (None, 64, 64, 128)  0           conv2d_146[0][0]                 \n",
            "__________________________________________________________________________________________________\n",
            "dropout_61 (Dropout)            (None, 64, 64, 128)  0           max_pooling2d_33[0][0]           \n",
            "__________________________________________________________________________________________________\n",
            "conv2d_147 (Conv2D)             (None, 64, 64, 256)  295168      dropout_61[0][0]                 \n",
            "__________________________________________________________________________________________________\n",
            "conv2d_148 (Conv2D)             (None, 64, 64, 256)  590080      conv2d_147[0][0]                 \n",
            "__________________________________________________________________________________________________\n",
            "max_pooling2d_34 (MaxPooling2D) (None, 32, 32, 256)  0           conv2d_148[0][0]                 \n",
            "__________________________________________________________________________________________________\n",
            "dropout_62 (Dropout)            (None, 32, 32, 256)  0           max_pooling2d_34[0][0]           \n",
            "__________________________________________________________________________________________________\n",
            "conv2d_149 (Conv2D)             (None, 32, 32, 512)  1180160     dropout_62[0][0]                 \n",
            "__________________________________________________________________________________________________\n",
            "conv2d_150 (Conv2D)             (None, 32, 32, 512)  2359808     conv2d_149[0][0]                 \n",
            "__________________________________________________________________________________________________\n",
            "max_pooling2d_35 (MaxPooling2D) (None, 16, 16, 512)  0           conv2d_150[0][0]                 \n",
            "__________________________________________________________________________________________________\n",
            "dropout_63 (Dropout)            (None, 16, 16, 512)  0           max_pooling2d_35[0][0]           \n",
            "__________________________________________________________________________________________________\n",
            "conv2d_151 (Conv2D)             (None, 16, 16, 1024) 4719616     dropout_63[0][0]                 \n",
            "__________________________________________________________________________________________________\n",
            "conv2d_152 (Conv2D)             (None, 16, 16, 1024) 9438208     conv2d_151[0][0]                 \n",
            "__________________________________________________________________________________________________\n",
            "conv2d_transpose_29 (Conv2DTran (None, 32, 32, 512)  4719104     conv2d_152[0][0]                 \n",
            "__________________________________________________________________________________________________\n",
            "concatenate_28 (Concatenate)    (None, 32, 32, 1024) 0           conv2d_transpose_29[0][0]        \n",
            "                                                                 conv2d_150[0][0]                 \n",
            "__________________________________________________________________________________________________\n",
            "dropout_64 (Dropout)            (None, 32, 32, 1024) 0           concatenate_28[0][0]             \n",
            "__________________________________________________________________________________________________\n",
            "conv2d_153 (Conv2D)             (None, 32, 32, 512)  4719104     dropout_64[0][0]                 \n",
            "__________________________________________________________________________________________________\n",
            "conv2d_154 (Conv2D)             (None, 32, 32, 512)  2359808     conv2d_153[0][0]                 \n",
            "__________________________________________________________________________________________________\n",
            "conv2d_transpose_30 (Conv2DTran (None, 64, 64, 256)  1179904     conv2d_154[0][0]                 \n",
            "__________________________________________________________________________________________________\n",
            "concatenate_29 (Concatenate)    (None, 64, 64, 512)  0           conv2d_transpose_30[0][0]        \n",
            "                                                                 conv2d_148[0][0]                 \n",
            "__________________________________________________________________________________________________\n",
            "dropout_65 (Dropout)            (None, 64, 64, 512)  0           concatenate_29[0][0]             \n",
            "__________________________________________________________________________________________________\n",
            "conv2d_155 (Conv2D)             (None, 64, 64, 256)  1179904     dropout_65[0][0]                 \n",
            "__________________________________________________________________________________________________\n",
            "conv2d_156 (Conv2D)             (None, 64, 64, 256)  590080      conv2d_155[0][0]                 \n",
            "__________________________________________________________________________________________________\n",
            "conv2d_transpose_31 (Conv2DTran (None, 128, 128, 128 295040      conv2d_156[0][0]                 \n",
            "__________________________________________________________________________________________________\n",
            "concatenate_30 (Concatenate)    (None, 128, 128, 256 0           conv2d_transpose_31[0][0]        \n",
            "                                                                 conv2d_146[0][0]                 \n",
            "__________________________________________________________________________________________________\n",
            "dropout_66 (Dropout)            (None, 128, 128, 256 0           concatenate_30[0][0]             \n",
            "__________________________________________________________________________________________________\n",
            "conv2d_157 (Conv2D)             (None, 128, 128, 128 295040      dropout_66[0][0]                 \n",
            "__________________________________________________________________________________________________\n",
            "conv2d_158 (Conv2D)             (None, 128, 128, 128 147584      conv2d_157[0][0]                 \n",
            "__________________________________________________________________________________________________\n",
            "conv2d_transpose_32 (Conv2DTran (None, 256, 256, 64) 73792       conv2d_158[0][0]                 \n",
            "__________________________________________________________________________________________________\n",
            "concatenate_31 (Concatenate)    (None, 256, 256, 128 0           conv2d_transpose_32[0][0]        \n",
            "                                                                 conv2d_144[0][0]                 \n",
            "__________________________________________________________________________________________________\n",
            "dropout_67 (Dropout)            (None, 256, 256, 128 0           concatenate_31[0][0]             \n",
            "__________________________________________________________________________________________________\n",
            "conv2d_159 (Conv2D)             (None, 256, 256, 64) 73792       dropout_67[0][0]                 \n",
            "__________________________________________________________________________________________________\n",
            "conv2d_160 (Conv2D)             (None, 256, 256, 64) 36928       conv2d_159[0][0]                 \n",
            "__________________________________________________________________________________________________\n",
            "conv2d_161 (Conv2D)             (None, 256, 256, 1)  577         conv2d_160[0][0]                 \n",
            "==================================================================================================\n",
            "Total params: 34,513,857\n",
            "Trainable params: 34,513,857\n",
            "Non-trainable params: 0\n",
            "__________________________________________________________________________________________________\n"
          ]
        }
      ],
      "source": [
        "model.summary()"
      ]
    },
    {
      "cell_type": "markdown",
      "metadata": {
        "id": "El2k2LYDOX8_"
      },
      "source": [
        "### Calculating trainable parameter:\n",
        "\n",
        "**number of learnable param  = (kernel size x kernel size x number of output feature channel x previous number of feature channel) + number of output feature channel**\n",
        "\n",
        "Example:\n",
        "\n",
        "Layer (type) | Output Shape | Param #\n",
        "---|---|---\n",
        "input_9 (InputLayer) | (None, 256, 256, 3) | 0\n",
        "conv2d_143 (Conv2D) | (None, 256, 256, 64) | 1792\n",
        "conv2d_144 (Conv2D) |(None, 256, 256, 64)  | 36928\n",
        "\n",
        "<br />\n",
        "\n",
        "From above table\n",
        "\n",
        "input layer has 0 learnable parameter.\n",
        "\n",
        "conv2d_143 = (3*3*64*3) + 64 = 1792\n",
        "\n",
        "conv2d_144 = (3*3*64*64) + 64 = 36928\n",
        "\n",
        "<br />\n",
        "\n",
        "### Output shape of image when applied convolution:\n",
        "\n",
        "**You can use this formula [(W−K+2P)/S]+1**\n",
        "\n",
        "* W is the input volume \n",
        "* K is the Kernel size\n",
        "* P is the padding\n",
        "* S is the stride\n",
        "\n",
        "Example:\n",
        "\n",
        "convolution applied to image of size 128X128X3 and 40 filters of size 5X5 \n",
        "\n",
        "Output_Shape = (128-5+0)/1 + 1 = 124\n",
        "\n",
        "Output_Shape = (124,124,40)\n",
        "\n",
        "40 is the number of filters\n"
      ]
    },
    {
      "cell_type": "code",
      "execution_count": null,
      "metadata": {
        "id": "_zgOL_ePRuFg"
      },
      "outputs": [],
      "source": []
    }
  ],
  "metadata": {
    "colab": {
      "name": "W5 S2.ipynb",
      "provenance": []
    },
    "kernelspec": {
      "display_name": "Python 3",
      "name": "python3"
    },
    "language_info": {
      "name": "python"
    }
  },
  "nbformat": 4,
  "nbformat_minor": 0
}
